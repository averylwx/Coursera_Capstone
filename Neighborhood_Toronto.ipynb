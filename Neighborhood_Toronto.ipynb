{
 "cells": [
  {
   "cell_type": "markdown",
   "metadata": {},
   "source": [
    "Scrape the Wikipedia page, using Beautiful Soup package"
   ]
  },
  {
   "cell_type": "markdown",
   "metadata": {},
   "source": [
    "Get url, decode page source"
   ]
  },
  {
   "cell_type": "code",
   "execution_count": 179,
   "metadata": {},
   "outputs": [],
   "source": [
    "import requests\n",
    "website_url=requests.get('https://en.wikipedia.org/wiki/List_of_postal_codes_of_Canada:_M').text"
   ]
  },
  {
   "cell_type": "code",
   "execution_count": 180,
   "metadata": {},
   "outputs": [],
   "source": [
    "from bs4 import BeautifulSoup\n",
    "soup = BeautifulSoup(website_url,'lxml')"
   ]
  },
  {
   "cell_type": "markdown",
   "metadata": {},
   "source": [
    "Find source code containing table, extract table columns"
   ]
  },
  {
   "cell_type": "code",
   "execution_count": 181,
   "metadata": {},
   "outputs": [],
   "source": [
    "My_table=soup.find('table',{'class':'wikitable sortable'})"
   ]
  },
  {
   "cell_type": "code",
   "execution_count": 182,
   "metadata": {},
   "outputs": [],
   "source": [
    "rows=My_table.find_all('tr')\n",
    "columns=[v.text.replace('\\n','') for v in rows[0].find_all('th')]"
   ]
  },
  {
   "cell_type": "markdown",
   "metadata": {},
   "source": [
    "Extract table values: \n",
    "1.Ignore rows with borough 'not assigned'\n",
    "2.Set not assigned neighbourhood with the same value of borough\n",
    "3.Sort the table by Postal code for convenience"
   ]
  },
  {
   "cell_type": "code",
   "execution_count": 183,
   "metadata": {
    "scrolled": true
   },
   "outputs": [],
   "source": [
    "import pandas as pd\n",
    "df=pd.DataFrame(columns=columns)\n",
    "for i in range(1,len(rows)):\n",
    "    tds=rows[i].find_all('td')\n",
    "    values=[v.text.replace('\\n','') for v in tds]\n",
    "    if values[1].lower()!='not assigned':\n",
    "        if values[2].lower()=='not assigned':\n",
    "            values[2]=values[1]\n",
    "        df=df.append(pd.Series(values,index=columns),ignore_index=True)\n",
    "df.sort_values(by='Postcode',inplace=True)\n",
    "df.reset_index(drop=True,inplace=True)\n",
    "#print(df)"
   ]
  },
  {
   "cell_type": "markdown",
   "metadata": {},
   "source": [
    "Merge rows with same postal code, print the final table"
   ]
  },
  {
   "cell_type": "code",
   "execution_count": 184,
   "metadata": {
    "scrolled": true
   },
   "outputs": [
    {
     "name": "stdout",
     "output_type": "stream",
     "text": [
      "    Postcode      Borough                                      Neighbourhood\n",
      "0        M1B  Scarborough                                     Rouge, Malvern\n",
      "2        M1C  Scarborough             Port Union, Rouge Hill, Highland Creek\n",
      "5        M1E  Scarborough                  Guildwood, Morningside, West Hill\n",
      "8        M1G  Scarborough                                             Woburn\n",
      "9        M1H  Scarborough                                          Cedarbrae\n",
      "..       ...          ...                                                ...\n",
      "193      M9M   North York                                   Humberlea, Emery\n",
      "195      M9N         York                                             Weston\n",
      "196      M9P    Etobicoke                                          Westmount\n",
      "197      M9R    Etobicoke  Richview Gardens, Kingsview Village, St. Phill...\n",
      "201      M9V    Etobicoke  Albion Gardens, Beaumond Heights, Humbergate, ...\n",
      "\n",
      "[102 rows x 3 columns]\n"
     ]
    }
   ],
   "source": [
    "df2=pd.DataFrame(columns=columns)\n",
    "k=-1\n",
    "i=0\n",
    "while i+1<len(df):\n",
    "    df2=df2.append(df.iloc[i])\n",
    "    k+=1\n",
    "    j=i+1\n",
    "    while df.iloc[i]['Postcode']==df.iloc[j]['Postcode']:\n",
    "        df2.iloc[k]['Neighbourhood']=df2.iloc[k]['Neighbourhood']+', '+df.iloc[j]['Neighbourhood']\n",
    "        j+=1\n",
    "    i=j    \n",
    "print(df2)    "
   ]
  },
  {
   "cell_type": "markdown",
   "metadata": {},
   "source": [
    "Print the shape of final table"
   ]
  },
  {
   "cell_type": "code",
   "execution_count": 185,
   "metadata": {
    "scrolled": true
   },
   "outputs": [
    {
     "name": "stdout",
     "output_type": "stream",
     "text": [
      "(102, 3)\n"
     ]
    }
   ],
   "source": [
    "print(df2.shape)"
   ]
  }
 ],
 "metadata": {
  "kernelspec": {
   "display_name": "Python 3",
   "language": "python",
   "name": "python3"
  },
  "language_info": {
   "codemirror_mode": {
    "name": "ipython",
    "version": 3
   },
   "file_extension": ".py",
   "mimetype": "text/x-python",
   "name": "python",
   "nbconvert_exporter": "python",
   "pygments_lexer": "ipython3",
   "version": "3.7.4"
  }
 },
 "nbformat": 4,
 "nbformat_minor": 2
}
